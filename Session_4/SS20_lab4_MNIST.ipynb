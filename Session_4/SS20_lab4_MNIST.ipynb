{
  "nbformat": 4,
  "nbformat_minor": 0,
  "metadata": {
    "colab": {
      "name": "SS20_lab4_MNIST.ipynb",
      "provenance": [],
      "collapsed_sections": [],
      "authorship_tag": "ABX9TyPNUpjWHWKPO4P5rvjSXV1u",
      "include_colab_link": true
    },
    "kernelspec": {
      "name": "python3",
      "display_name": "Python 3"
    },
    "widgets": {
      "application/vnd.jupyter.widget-state+json": {
        "dc83678c9b1848f0b0962bec29f131b9": {
          "model_module": "@jupyter-widgets/controls",
          "model_name": "HBoxModel",
          "state": {
            "_view_name": "HBoxView",
            "_dom_classes": [],
            "_model_name": "HBoxModel",
            "_view_module": "@jupyter-widgets/controls",
            "_model_module_version": "1.5.0",
            "_view_count": null,
            "_view_module_version": "1.5.0",
            "box_style": "",
            "layout": "IPY_MODEL_f1935b6854b14881927c3bbfb6aa3e44",
            "_model_module": "@jupyter-widgets/controls",
            "children": [
              "IPY_MODEL_ae20c8b67ff84b418511e3e52cd36a00",
              "IPY_MODEL_96370b3b133442a398a8bb16e65cf469"
            ]
          }
        },
        "f1935b6854b14881927c3bbfb6aa3e44": {
          "model_module": "@jupyter-widgets/base",
          "model_name": "LayoutModel",
          "state": {
            "_view_name": "LayoutView",
            "grid_template_rows": null,
            "right": null,
            "justify_content": null,
            "_view_module": "@jupyter-widgets/base",
            "overflow": null,
            "_model_module_version": "1.2.0",
            "_view_count": null,
            "flex_flow": null,
            "width": null,
            "min_width": null,
            "border": null,
            "align_items": null,
            "bottom": null,
            "_model_module": "@jupyter-widgets/base",
            "top": null,
            "grid_column": null,
            "overflow_y": null,
            "overflow_x": null,
            "grid_auto_flow": null,
            "grid_area": null,
            "grid_template_columns": null,
            "flex": null,
            "_model_name": "LayoutModel",
            "justify_items": null,
            "grid_row": null,
            "max_height": null,
            "align_content": null,
            "visibility": null,
            "align_self": null,
            "height": null,
            "min_height": null,
            "padding": null,
            "grid_auto_rows": null,
            "grid_gap": null,
            "max_width": null,
            "order": null,
            "_view_module_version": "1.2.0",
            "grid_template_areas": null,
            "object_position": null,
            "object_fit": null,
            "grid_auto_columns": null,
            "margin": null,
            "display": null,
            "left": null
          }
        },
        "ae20c8b67ff84b418511e3e52cd36a00": {
          "model_module": "@jupyter-widgets/controls",
          "model_name": "FloatProgressModel",
          "state": {
            "_view_name": "ProgressView",
            "style": "IPY_MODEL_fb17375ebc384f77b306bd41560e9ef4",
            "_dom_classes": [],
            "description": "",
            "_model_name": "FloatProgressModel",
            "bar_style": "success",
            "max": 1,
            "_view_module": "@jupyter-widgets/controls",
            "_model_module_version": "1.5.0",
            "value": 1,
            "_view_count": null,
            "_view_module_version": "1.5.0",
            "orientation": "horizontal",
            "min": 0,
            "description_tooltip": null,
            "_model_module": "@jupyter-widgets/controls",
            "layout": "IPY_MODEL_84b1bb0943384cb1b5558925f5ca0c2f"
          }
        },
        "96370b3b133442a398a8bb16e65cf469": {
          "model_module": "@jupyter-widgets/controls",
          "model_name": "HTMLModel",
          "state": {
            "_view_name": "HTMLView",
            "style": "IPY_MODEL_8a1884e0c49c49b4887c49e847ae9279",
            "_dom_classes": [],
            "description": "",
            "_model_name": "HTMLModel",
            "placeholder": "​",
            "_view_module": "@jupyter-widgets/controls",
            "_model_module_version": "1.5.0",
            "value": " 9920512/? [00:03&lt;00:00, 2997730.41it/s]",
            "_view_count": null,
            "_view_module_version": "1.5.0",
            "description_tooltip": null,
            "_model_module": "@jupyter-widgets/controls",
            "layout": "IPY_MODEL_86ebdb69377847a5a8f17d8f6a9dd42d"
          }
        },
        "fb17375ebc384f77b306bd41560e9ef4": {
          "model_module": "@jupyter-widgets/controls",
          "model_name": "ProgressStyleModel",
          "state": {
            "_view_name": "StyleView",
            "_model_name": "ProgressStyleModel",
            "description_width": "initial",
            "_view_module": "@jupyter-widgets/base",
            "_model_module_version": "1.5.0",
            "_view_count": null,
            "_view_module_version": "1.2.0",
            "bar_color": null,
            "_model_module": "@jupyter-widgets/controls"
          }
        },
        "84b1bb0943384cb1b5558925f5ca0c2f": {
          "model_module": "@jupyter-widgets/base",
          "model_name": "LayoutModel",
          "state": {
            "_view_name": "LayoutView",
            "grid_template_rows": null,
            "right": null,
            "justify_content": null,
            "_view_module": "@jupyter-widgets/base",
            "overflow": null,
            "_model_module_version": "1.2.0",
            "_view_count": null,
            "flex_flow": null,
            "width": null,
            "min_width": null,
            "border": null,
            "align_items": null,
            "bottom": null,
            "_model_module": "@jupyter-widgets/base",
            "top": null,
            "grid_column": null,
            "overflow_y": null,
            "overflow_x": null,
            "grid_auto_flow": null,
            "grid_area": null,
            "grid_template_columns": null,
            "flex": null,
            "_model_name": "LayoutModel",
            "justify_items": null,
            "grid_row": null,
            "max_height": null,
            "align_content": null,
            "visibility": null,
            "align_self": null,
            "height": null,
            "min_height": null,
            "padding": null,
            "grid_auto_rows": null,
            "grid_gap": null,
            "max_width": null,
            "order": null,
            "_view_module_version": "1.2.0",
            "grid_template_areas": null,
            "object_position": null,
            "object_fit": null,
            "grid_auto_columns": null,
            "margin": null,
            "display": null,
            "left": null
          }
        },
        "8a1884e0c49c49b4887c49e847ae9279": {
          "model_module": "@jupyter-widgets/controls",
          "model_name": "DescriptionStyleModel",
          "state": {
            "_view_name": "StyleView",
            "_model_name": "DescriptionStyleModel",
            "description_width": "",
            "_view_module": "@jupyter-widgets/base",
            "_model_module_version": "1.5.0",
            "_view_count": null,
            "_view_module_version": "1.2.0",
            "_model_module": "@jupyter-widgets/controls"
          }
        },
        "86ebdb69377847a5a8f17d8f6a9dd42d": {
          "model_module": "@jupyter-widgets/base",
          "model_name": "LayoutModel",
          "state": {
            "_view_name": "LayoutView",
            "grid_template_rows": null,
            "right": null,
            "justify_content": null,
            "_view_module": "@jupyter-widgets/base",
            "overflow": null,
            "_model_module_version": "1.2.0",
            "_view_count": null,
            "flex_flow": null,
            "width": null,
            "min_width": null,
            "border": null,
            "align_items": null,
            "bottom": null,
            "_model_module": "@jupyter-widgets/base",
            "top": null,
            "grid_column": null,
            "overflow_y": null,
            "overflow_x": null,
            "grid_auto_flow": null,
            "grid_area": null,
            "grid_template_columns": null,
            "flex": null,
            "_model_name": "LayoutModel",
            "justify_items": null,
            "grid_row": null,
            "max_height": null,
            "align_content": null,
            "visibility": null,
            "align_self": null,
            "height": null,
            "min_height": null,
            "padding": null,
            "grid_auto_rows": null,
            "grid_gap": null,
            "max_width": null,
            "order": null,
            "_view_module_version": "1.2.0",
            "grid_template_areas": null,
            "object_position": null,
            "object_fit": null,
            "grid_auto_columns": null,
            "margin": null,
            "display": null,
            "left": null
          }
        },
        "b11c9554e25e47d599d243ec6607b67a": {
          "model_module": "@jupyter-widgets/controls",
          "model_name": "HBoxModel",
          "state": {
            "_view_name": "HBoxView",
            "_dom_classes": [],
            "_model_name": "HBoxModel",
            "_view_module": "@jupyter-widgets/controls",
            "_model_module_version": "1.5.0",
            "_view_count": null,
            "_view_module_version": "1.5.0",
            "box_style": "",
            "layout": "IPY_MODEL_55ecd59fcd1b4381918c57bcf833b874",
            "_model_module": "@jupyter-widgets/controls",
            "children": [
              "IPY_MODEL_8457d71530c54efea64c750e71a3101b",
              "IPY_MODEL_5b0c1bb89f814db0a16ee2b5f7c8c5b9"
            ]
          }
        },
        "55ecd59fcd1b4381918c57bcf833b874": {
          "model_module": "@jupyter-widgets/base",
          "model_name": "LayoutModel",
          "state": {
            "_view_name": "LayoutView",
            "grid_template_rows": null,
            "right": null,
            "justify_content": null,
            "_view_module": "@jupyter-widgets/base",
            "overflow": null,
            "_model_module_version": "1.2.0",
            "_view_count": null,
            "flex_flow": null,
            "width": null,
            "min_width": null,
            "border": null,
            "align_items": null,
            "bottom": null,
            "_model_module": "@jupyter-widgets/base",
            "top": null,
            "grid_column": null,
            "overflow_y": null,
            "overflow_x": null,
            "grid_auto_flow": null,
            "grid_area": null,
            "grid_template_columns": null,
            "flex": null,
            "_model_name": "LayoutModel",
            "justify_items": null,
            "grid_row": null,
            "max_height": null,
            "align_content": null,
            "visibility": null,
            "align_self": null,
            "height": null,
            "min_height": null,
            "padding": null,
            "grid_auto_rows": null,
            "grid_gap": null,
            "max_width": null,
            "order": null,
            "_view_module_version": "1.2.0",
            "grid_template_areas": null,
            "object_position": null,
            "object_fit": null,
            "grid_auto_columns": null,
            "margin": null,
            "display": null,
            "left": null
          }
        },
        "8457d71530c54efea64c750e71a3101b": {
          "model_module": "@jupyter-widgets/controls",
          "model_name": "FloatProgressModel",
          "state": {
            "_view_name": "ProgressView",
            "style": "IPY_MODEL_34910fb4d87a43e4841bc66ba5f554db",
            "_dom_classes": [],
            "description": "",
            "_model_name": "FloatProgressModel",
            "bar_style": "success",
            "max": 1,
            "_view_module": "@jupyter-widgets/controls",
            "_model_module_version": "1.5.0",
            "value": 1,
            "_view_count": null,
            "_view_module_version": "1.5.0",
            "orientation": "horizontal",
            "min": 0,
            "description_tooltip": null,
            "_model_module": "@jupyter-widgets/controls",
            "layout": "IPY_MODEL_188ce6e0740242cb8438fe46c4e3aaf2"
          }
        },
        "5b0c1bb89f814db0a16ee2b5f7c8c5b9": {
          "model_module": "@jupyter-widgets/controls",
          "model_name": "HTMLModel",
          "state": {
            "_view_name": "HTMLView",
            "style": "IPY_MODEL_df740dbbb19c41349123800cd8f5790a",
            "_dom_classes": [],
            "description": "",
            "_model_name": "HTMLModel",
            "placeholder": "​",
            "_view_module": "@jupyter-widgets/controls",
            "_model_module_version": "1.5.0",
            "value": " 32768/? [00:01&lt;00:00, 21437.40it/s]",
            "_view_count": null,
            "_view_module_version": "1.5.0",
            "description_tooltip": null,
            "_model_module": "@jupyter-widgets/controls",
            "layout": "IPY_MODEL_8f1e8437184341988bee1dd2d4dd30b4"
          }
        },
        "34910fb4d87a43e4841bc66ba5f554db": {
          "model_module": "@jupyter-widgets/controls",
          "model_name": "ProgressStyleModel",
          "state": {
            "_view_name": "StyleView",
            "_model_name": "ProgressStyleModel",
            "description_width": "initial",
            "_view_module": "@jupyter-widgets/base",
            "_model_module_version": "1.5.0",
            "_view_count": null,
            "_view_module_version": "1.2.0",
            "bar_color": null,
            "_model_module": "@jupyter-widgets/controls"
          }
        },
        "188ce6e0740242cb8438fe46c4e3aaf2": {
          "model_module": "@jupyter-widgets/base",
          "model_name": "LayoutModel",
          "state": {
            "_view_name": "LayoutView",
            "grid_template_rows": null,
            "right": null,
            "justify_content": null,
            "_view_module": "@jupyter-widgets/base",
            "overflow": null,
            "_model_module_version": "1.2.0",
            "_view_count": null,
            "flex_flow": null,
            "width": null,
            "min_width": null,
            "border": null,
            "align_items": null,
            "bottom": null,
            "_model_module": "@jupyter-widgets/base",
            "top": null,
            "grid_column": null,
            "overflow_y": null,
            "overflow_x": null,
            "grid_auto_flow": null,
            "grid_area": null,
            "grid_template_columns": null,
            "flex": null,
            "_model_name": "LayoutModel",
            "justify_items": null,
            "grid_row": null,
            "max_height": null,
            "align_content": null,
            "visibility": null,
            "align_self": null,
            "height": null,
            "min_height": null,
            "padding": null,
            "grid_auto_rows": null,
            "grid_gap": null,
            "max_width": null,
            "order": null,
            "_view_module_version": "1.2.0",
            "grid_template_areas": null,
            "object_position": null,
            "object_fit": null,
            "grid_auto_columns": null,
            "margin": null,
            "display": null,
            "left": null
          }
        },
        "df740dbbb19c41349123800cd8f5790a": {
          "model_module": "@jupyter-widgets/controls",
          "model_name": "DescriptionStyleModel",
          "state": {
            "_view_name": "StyleView",
            "_model_name": "DescriptionStyleModel",
            "description_width": "",
            "_view_module": "@jupyter-widgets/base",
            "_model_module_version": "1.5.0",
            "_view_count": null,
            "_view_module_version": "1.2.0",
            "_model_module": "@jupyter-widgets/controls"
          }
        },
        "8f1e8437184341988bee1dd2d4dd30b4": {
          "model_module": "@jupyter-widgets/base",
          "model_name": "LayoutModel",
          "state": {
            "_view_name": "LayoutView",
            "grid_template_rows": null,
            "right": null,
            "justify_content": null,
            "_view_module": "@jupyter-widgets/base",
            "overflow": null,
            "_model_module_version": "1.2.0",
            "_view_count": null,
            "flex_flow": null,
            "width": null,
            "min_width": null,
            "border": null,
            "align_items": null,
            "bottom": null,
            "_model_module": "@jupyter-widgets/base",
            "top": null,
            "grid_column": null,
            "overflow_y": null,
            "overflow_x": null,
            "grid_auto_flow": null,
            "grid_area": null,
            "grid_template_columns": null,
            "flex": null,
            "_model_name": "LayoutModel",
            "justify_items": null,
            "grid_row": null,
            "max_height": null,
            "align_content": null,
            "visibility": null,
            "align_self": null,
            "height": null,
            "min_height": null,
            "padding": null,
            "grid_auto_rows": null,
            "grid_gap": null,
            "max_width": null,
            "order": null,
            "_view_module_version": "1.2.0",
            "grid_template_areas": null,
            "object_position": null,
            "object_fit": null,
            "grid_auto_columns": null,
            "margin": null,
            "display": null,
            "left": null
          }
        },
        "ee03e2b188d84c4f991ae9c451da9448": {
          "model_module": "@jupyter-widgets/controls",
          "model_name": "HBoxModel",
          "state": {
            "_view_name": "HBoxView",
            "_dom_classes": [],
            "_model_name": "HBoxModel",
            "_view_module": "@jupyter-widgets/controls",
            "_model_module_version": "1.5.0",
            "_view_count": null,
            "_view_module_version": "1.5.0",
            "box_style": "",
            "layout": "IPY_MODEL_17590e913e7c4f91a2f36cd83b89f5bf",
            "_model_module": "@jupyter-widgets/controls",
            "children": [
              "IPY_MODEL_98dbc6a3cb9b4dd8b092e91f5bca758f",
              "IPY_MODEL_c225645f81174305a44dd29d072d3d71"
            ]
          }
        },
        "17590e913e7c4f91a2f36cd83b89f5bf": {
          "model_module": "@jupyter-widgets/base",
          "model_name": "LayoutModel",
          "state": {
            "_view_name": "LayoutView",
            "grid_template_rows": null,
            "right": null,
            "justify_content": null,
            "_view_module": "@jupyter-widgets/base",
            "overflow": null,
            "_model_module_version": "1.2.0",
            "_view_count": null,
            "flex_flow": null,
            "width": null,
            "min_width": null,
            "border": null,
            "align_items": null,
            "bottom": null,
            "_model_module": "@jupyter-widgets/base",
            "top": null,
            "grid_column": null,
            "overflow_y": null,
            "overflow_x": null,
            "grid_auto_flow": null,
            "grid_area": null,
            "grid_template_columns": null,
            "flex": null,
            "_model_name": "LayoutModel",
            "justify_items": null,
            "grid_row": null,
            "max_height": null,
            "align_content": null,
            "visibility": null,
            "align_self": null,
            "height": null,
            "min_height": null,
            "padding": null,
            "grid_auto_rows": null,
            "grid_gap": null,
            "max_width": null,
            "order": null,
            "_view_module_version": "1.2.0",
            "grid_template_areas": null,
            "object_position": null,
            "object_fit": null,
            "grid_auto_columns": null,
            "margin": null,
            "display": null,
            "left": null
          }
        },
        "98dbc6a3cb9b4dd8b092e91f5bca758f": {
          "model_module": "@jupyter-widgets/controls",
          "model_name": "FloatProgressModel",
          "state": {
            "_view_name": "ProgressView",
            "style": "IPY_MODEL_0aff04425cb64c07b6e0a5efbe790825",
            "_dom_classes": [],
            "description": "",
            "_model_name": "FloatProgressModel",
            "bar_style": "success",
            "max": 1,
            "_view_module": "@jupyter-widgets/controls",
            "_model_module_version": "1.5.0",
            "value": 1,
            "_view_count": null,
            "_view_module_version": "1.5.0",
            "orientation": "horizontal",
            "min": 0,
            "description_tooltip": null,
            "_model_module": "@jupyter-widgets/controls",
            "layout": "IPY_MODEL_d83136055660436db732111ddbeb806a"
          }
        },
        "c225645f81174305a44dd29d072d3d71": {
          "model_module": "@jupyter-widgets/controls",
          "model_name": "HTMLModel",
          "state": {
            "_view_name": "HTMLView",
            "style": "IPY_MODEL_a95d7826f79f417cbef690978d7d9eb2",
            "_dom_classes": [],
            "description": "",
            "_model_name": "HTMLModel",
            "placeholder": "​",
            "_view_module": "@jupyter-widgets/controls",
            "_model_module_version": "1.5.0",
            "value": " 1654784/? [00:01&lt;00:00, 1355756.61it/s]",
            "_view_count": null,
            "_view_module_version": "1.5.0",
            "description_tooltip": null,
            "_model_module": "@jupyter-widgets/controls",
            "layout": "IPY_MODEL_5c0e6acb5bd141ada65f4ff5853cbb08"
          }
        },
        "0aff04425cb64c07b6e0a5efbe790825": {
          "model_module": "@jupyter-widgets/controls",
          "model_name": "ProgressStyleModel",
          "state": {
            "_view_name": "StyleView",
            "_model_name": "ProgressStyleModel",
            "description_width": "initial",
            "_view_module": "@jupyter-widgets/base",
            "_model_module_version": "1.5.0",
            "_view_count": null,
            "_view_module_version": "1.2.0",
            "bar_color": null,
            "_model_module": "@jupyter-widgets/controls"
          }
        },
        "d83136055660436db732111ddbeb806a": {
          "model_module": "@jupyter-widgets/base",
          "model_name": "LayoutModel",
          "state": {
            "_view_name": "LayoutView",
            "grid_template_rows": null,
            "right": null,
            "justify_content": null,
            "_view_module": "@jupyter-widgets/base",
            "overflow": null,
            "_model_module_version": "1.2.0",
            "_view_count": null,
            "flex_flow": null,
            "width": null,
            "min_width": null,
            "border": null,
            "align_items": null,
            "bottom": null,
            "_model_module": "@jupyter-widgets/base",
            "top": null,
            "grid_column": null,
            "overflow_y": null,
            "overflow_x": null,
            "grid_auto_flow": null,
            "grid_area": null,
            "grid_template_columns": null,
            "flex": null,
            "_model_name": "LayoutModel",
            "justify_items": null,
            "grid_row": null,
            "max_height": null,
            "align_content": null,
            "visibility": null,
            "align_self": null,
            "height": null,
            "min_height": null,
            "padding": null,
            "grid_auto_rows": null,
            "grid_gap": null,
            "max_width": null,
            "order": null,
            "_view_module_version": "1.2.0",
            "grid_template_areas": null,
            "object_position": null,
            "object_fit": null,
            "grid_auto_columns": null,
            "margin": null,
            "display": null,
            "left": null
          }
        },
        "a95d7826f79f417cbef690978d7d9eb2": {
          "model_module": "@jupyter-widgets/controls",
          "model_name": "DescriptionStyleModel",
          "state": {
            "_view_name": "StyleView",
            "_model_name": "DescriptionStyleModel",
            "description_width": "",
            "_view_module": "@jupyter-widgets/base",
            "_model_module_version": "1.5.0",
            "_view_count": null,
            "_view_module_version": "1.2.0",
            "_model_module": "@jupyter-widgets/controls"
          }
        },
        "5c0e6acb5bd141ada65f4ff5853cbb08": {
          "model_module": "@jupyter-widgets/base",
          "model_name": "LayoutModel",
          "state": {
            "_view_name": "LayoutView",
            "grid_template_rows": null,
            "right": null,
            "justify_content": null,
            "_view_module": "@jupyter-widgets/base",
            "overflow": null,
            "_model_module_version": "1.2.0",
            "_view_count": null,
            "flex_flow": null,
            "width": null,
            "min_width": null,
            "border": null,
            "align_items": null,
            "bottom": null,
            "_model_module": "@jupyter-widgets/base",
            "top": null,
            "grid_column": null,
            "overflow_y": null,
            "overflow_x": null,
            "grid_auto_flow": null,
            "grid_area": null,
            "grid_template_columns": null,
            "flex": null,
            "_model_name": "LayoutModel",
            "justify_items": null,
            "grid_row": null,
            "max_height": null,
            "align_content": null,
            "visibility": null,
            "align_self": null,
            "height": null,
            "min_height": null,
            "padding": null,
            "grid_auto_rows": null,
            "grid_gap": null,
            "max_width": null,
            "order": null,
            "_view_module_version": "1.2.0",
            "grid_template_areas": null,
            "object_position": null,
            "object_fit": null,
            "grid_auto_columns": null,
            "margin": null,
            "display": null,
            "left": null
          }
        },
        "6daa9a42c6054915a9fc9a359e9b29ee": {
          "model_module": "@jupyter-widgets/controls",
          "model_name": "HBoxModel",
          "state": {
            "_view_name": "HBoxView",
            "_dom_classes": [],
            "_model_name": "HBoxModel",
            "_view_module": "@jupyter-widgets/controls",
            "_model_module_version": "1.5.0",
            "_view_count": null,
            "_view_module_version": "1.5.0",
            "box_style": "",
            "layout": "IPY_MODEL_4e38d7555c5b40d894d1c3fc7a889085",
            "_model_module": "@jupyter-widgets/controls",
            "children": [
              "IPY_MODEL_8c4c8937da2b41759fe21389c688f2cd",
              "IPY_MODEL_6efe8286d8764fd8ab0a1f8458febff2"
            ]
          }
        },
        "4e38d7555c5b40d894d1c3fc7a889085": {
          "model_module": "@jupyter-widgets/base",
          "model_name": "LayoutModel",
          "state": {
            "_view_name": "LayoutView",
            "grid_template_rows": null,
            "right": null,
            "justify_content": null,
            "_view_module": "@jupyter-widgets/base",
            "overflow": null,
            "_model_module_version": "1.2.0",
            "_view_count": null,
            "flex_flow": null,
            "width": null,
            "min_width": null,
            "border": null,
            "align_items": null,
            "bottom": null,
            "_model_module": "@jupyter-widgets/base",
            "top": null,
            "grid_column": null,
            "overflow_y": null,
            "overflow_x": null,
            "grid_auto_flow": null,
            "grid_area": null,
            "grid_template_columns": null,
            "flex": null,
            "_model_name": "LayoutModel",
            "justify_items": null,
            "grid_row": null,
            "max_height": null,
            "align_content": null,
            "visibility": null,
            "align_self": null,
            "height": null,
            "min_height": null,
            "padding": null,
            "grid_auto_rows": null,
            "grid_gap": null,
            "max_width": null,
            "order": null,
            "_view_module_version": "1.2.0",
            "grid_template_areas": null,
            "object_position": null,
            "object_fit": null,
            "grid_auto_columns": null,
            "margin": null,
            "display": null,
            "left": null
          }
        },
        "8c4c8937da2b41759fe21389c688f2cd": {
          "model_module": "@jupyter-widgets/controls",
          "model_name": "FloatProgressModel",
          "state": {
            "_view_name": "ProgressView",
            "style": "IPY_MODEL_1c619a7a556f47c4922a1888c7a735ef",
            "_dom_classes": [],
            "description": "",
            "_model_name": "FloatProgressModel",
            "bar_style": "success",
            "max": 1,
            "_view_module": "@jupyter-widgets/controls",
            "_model_module_version": "1.5.0",
            "value": 1,
            "_view_count": null,
            "_view_module_version": "1.5.0",
            "orientation": "horizontal",
            "min": 0,
            "description_tooltip": null,
            "_model_module": "@jupyter-widgets/controls",
            "layout": "IPY_MODEL_bfdd5944bbfb496fb761768e08687746"
          }
        },
        "6efe8286d8764fd8ab0a1f8458febff2": {
          "model_module": "@jupyter-widgets/controls",
          "model_name": "HTMLModel",
          "state": {
            "_view_name": "HTMLView",
            "style": "IPY_MODEL_d8a932c1d3524acb83c0e70d4b17da1a",
            "_dom_classes": [],
            "description": "",
            "_model_name": "HTMLModel",
            "placeholder": "​",
            "_view_module": "@jupyter-widgets/controls",
            "_model_module_version": "1.5.0",
            "value": " 8192/? [00:00&lt;00:00, 17302.18it/s]",
            "_view_count": null,
            "_view_module_version": "1.5.0",
            "description_tooltip": null,
            "_model_module": "@jupyter-widgets/controls",
            "layout": "IPY_MODEL_f46c4bd5bc434b81a8c8572bf28a75a0"
          }
        },
        "1c619a7a556f47c4922a1888c7a735ef": {
          "model_module": "@jupyter-widgets/controls",
          "model_name": "ProgressStyleModel",
          "state": {
            "_view_name": "StyleView",
            "_model_name": "ProgressStyleModel",
            "description_width": "initial",
            "_view_module": "@jupyter-widgets/base",
            "_model_module_version": "1.5.0",
            "_view_count": null,
            "_view_module_version": "1.2.0",
            "bar_color": null,
            "_model_module": "@jupyter-widgets/controls"
          }
        },
        "bfdd5944bbfb496fb761768e08687746": {
          "model_module": "@jupyter-widgets/base",
          "model_name": "LayoutModel",
          "state": {
            "_view_name": "LayoutView",
            "grid_template_rows": null,
            "right": null,
            "justify_content": null,
            "_view_module": "@jupyter-widgets/base",
            "overflow": null,
            "_model_module_version": "1.2.0",
            "_view_count": null,
            "flex_flow": null,
            "width": null,
            "min_width": null,
            "border": null,
            "align_items": null,
            "bottom": null,
            "_model_module": "@jupyter-widgets/base",
            "top": null,
            "grid_column": null,
            "overflow_y": null,
            "overflow_x": null,
            "grid_auto_flow": null,
            "grid_area": null,
            "grid_template_columns": null,
            "flex": null,
            "_model_name": "LayoutModel",
            "justify_items": null,
            "grid_row": null,
            "max_height": null,
            "align_content": null,
            "visibility": null,
            "align_self": null,
            "height": null,
            "min_height": null,
            "padding": null,
            "grid_auto_rows": null,
            "grid_gap": null,
            "max_width": null,
            "order": null,
            "_view_module_version": "1.2.0",
            "grid_template_areas": null,
            "object_position": null,
            "object_fit": null,
            "grid_auto_columns": null,
            "margin": null,
            "display": null,
            "left": null
          }
        },
        "d8a932c1d3524acb83c0e70d4b17da1a": {
          "model_module": "@jupyter-widgets/controls",
          "model_name": "DescriptionStyleModel",
          "state": {
            "_view_name": "StyleView",
            "_model_name": "DescriptionStyleModel",
            "description_width": "",
            "_view_module": "@jupyter-widgets/base",
            "_model_module_version": "1.5.0",
            "_view_count": null,
            "_view_module_version": "1.2.0",
            "_model_module": "@jupyter-widgets/controls"
          }
        },
        "f46c4bd5bc434b81a8c8572bf28a75a0": {
          "model_module": "@jupyter-widgets/base",
          "model_name": "LayoutModel",
          "state": {
            "_view_name": "LayoutView",
            "grid_template_rows": null,
            "right": null,
            "justify_content": null,
            "_view_module": "@jupyter-widgets/base",
            "overflow": null,
            "_model_module_version": "1.2.0",
            "_view_count": null,
            "flex_flow": null,
            "width": null,
            "min_width": null,
            "border": null,
            "align_items": null,
            "bottom": null,
            "_model_module": "@jupyter-widgets/base",
            "top": null,
            "grid_column": null,
            "overflow_y": null,
            "overflow_x": null,
            "grid_auto_flow": null,
            "grid_area": null,
            "grid_template_columns": null,
            "flex": null,
            "_model_name": "LayoutModel",
            "justify_items": null,
            "grid_row": null,
            "max_height": null,
            "align_content": null,
            "visibility": null,
            "align_self": null,
            "height": null,
            "min_height": null,
            "padding": null,
            "grid_auto_rows": null,
            "grid_gap": null,
            "max_width": null,
            "order": null,
            "_view_module_version": "1.2.0",
            "grid_template_areas": null,
            "object_position": null,
            "object_fit": null,
            "grid_auto_columns": null,
            "margin": null,
            "display": null,
            "left": null
          }
        }
      }
    }
  },
  "cells": [
    {
      "cell_type": "markdown",
      "metadata": {
        "id": "view-in-github",
        "colab_type": "text"
      },
      "source": [
        "<a href=\"https://colab.research.google.com/github/isaacye/SS2020V2_ML_Day2/blob/master/Session_4/SS20_lab4_MNIST.ipynb\" target=\"_parent\"><img src=\"https://colab.research.google.com/assets/colab-badge.svg\" alt=\"Open In Colab\"/></a>"
      ]
    },
    {
      "cell_type": "code",
      "metadata": {
        "id": "ZOy-bUcGVqAT",
        "colab_type": "code",
        "colab": {
          "base_uri": "https://localhost:8080/",
          "height": 34
        },
        "outputId": "4b541459-f008-4fdd-95f0-9c2fd556fc5e"
      },
      "source": [
        "import torch\n",
        "print(torch.__version__)"
      ],
      "execution_count": null,
      "outputs": [
        {
          "output_type": "stream",
          "text": [
            "1.5.0+cu101\n"
          ],
          "name": "stdout"
        }
      ]
    },
    {
      "cell_type": "markdown",
      "metadata": {
        "id": "IJIN5--6Yzs8",
        "colab_type": "text"
      },
      "source": [
        "##**Data preparation**"
      ]
    },
    {
      "cell_type": "code",
      "metadata": {
        "id": "u-9lAopXVy_t",
        "colab_type": "code",
        "colab": {
          "base_uri": "https://localhost:8080/",
          "height": 376,
          "referenced_widgets": [
            "dc83678c9b1848f0b0962bec29f131b9",
            "f1935b6854b14881927c3bbfb6aa3e44",
            "ae20c8b67ff84b418511e3e52cd36a00",
            "96370b3b133442a398a8bb16e65cf469",
            "fb17375ebc384f77b306bd41560e9ef4",
            "84b1bb0943384cb1b5558925f5ca0c2f",
            "8a1884e0c49c49b4887c49e847ae9279",
            "86ebdb69377847a5a8f17d8f6a9dd42d",
            "b11c9554e25e47d599d243ec6607b67a",
            "55ecd59fcd1b4381918c57bcf833b874",
            "8457d71530c54efea64c750e71a3101b",
            "5b0c1bb89f814db0a16ee2b5f7c8c5b9",
            "34910fb4d87a43e4841bc66ba5f554db",
            "188ce6e0740242cb8438fe46c4e3aaf2",
            "df740dbbb19c41349123800cd8f5790a",
            "8f1e8437184341988bee1dd2d4dd30b4",
            "ee03e2b188d84c4f991ae9c451da9448",
            "17590e913e7c4f91a2f36cd83b89f5bf",
            "98dbc6a3cb9b4dd8b092e91f5bca758f",
            "c225645f81174305a44dd29d072d3d71",
            "0aff04425cb64c07b6e0a5efbe790825",
            "d83136055660436db732111ddbeb806a",
            "a95d7826f79f417cbef690978d7d9eb2",
            "5c0e6acb5bd141ada65f4ff5853cbb08",
            "6daa9a42c6054915a9fc9a359e9b29ee",
            "4e38d7555c5b40d894d1c3fc7a889085",
            "8c4c8937da2b41759fe21389c688f2cd",
            "6efe8286d8764fd8ab0a1f8458febff2",
            "1c619a7a556f47c4922a1888c7a735ef",
            "bfdd5944bbfb496fb761768e08687746",
            "d8a932c1d3524acb83c0e70d4b17da1a",
            "f46c4bd5bc434b81a8c8572bf28a75a0"
          ]
        },
        "outputId": "8aade5d0-d5d4-4c74-a3cf-7da3fe65ef55"
      },
      "source": [
        "import torch\n",
        "from torchvision import datasets, transforms\n",
        "import torch.nn as nn\n",
        "\n",
        "\n",
        "batch_size = 128\n",
        "train_dataset = datasets.MNIST('./data', train=True, download=True,\n",
        "                   transform=transforms.Compose([\n",
        "                       transforms.ToTensor(),\n",
        "                       transforms.Normalize((0.1307,), (0.3081,))\n",
        "                   ]))\n",
        "test_dataset =  datasets.MNIST('./data', train=False, download=True,\n",
        "                   transform=transforms.Compose([\n",
        "                       transforms.ToTensor(),\n",
        "                       transforms.Normalize((0.1307,), (0.3081,))\n",
        "                   ]))\n",
        "train_dataset, val_dataset = torch.utils.data.random_split(train_dataset, [50000, 10000])\n",
        "print(len(train_dataset), len(val_dataset), len(test_dataset))\n",
        "\n",
        "train_loader = torch.utils.data.DataLoader(train_dataset, batch_size=128, shuffle=True)\n",
        "val_loader = torch.utils.data.DataLoader(val_dataset, batch_size=128, shuffle=False)\n",
        "test_loader = torch.utils.data.DataLoader(test_dataset, batch_size=128, shuffle=False)"
      ],
      "execution_count": null,
      "outputs": [
        {
          "output_type": "stream",
          "text": [
            "Downloading http://yann.lecun.com/exdb/mnist/train-images-idx3-ubyte.gz to ./data/MNIST/raw/train-images-idx3-ubyte.gz\n"
          ],
          "name": "stdout"
        },
        {
          "output_type": "display_data",
          "data": {
            "application/vnd.jupyter.widget-view+json": {
              "model_id": "dc83678c9b1848f0b0962bec29f131b9",
              "version_minor": 0,
              "version_major": 2
            },
            "text/plain": [
              "HBox(children=(FloatProgress(value=1.0, bar_style='info', max=1.0), HTML(value='')))"
            ]
          },
          "metadata": {
            "tags": []
          }
        },
        {
          "output_type": "stream",
          "text": [
            "Extracting ./data/MNIST/raw/train-images-idx3-ubyte.gz to ./data/MNIST/raw\n",
            "Downloading http://yann.lecun.com/exdb/mnist/train-labels-idx1-ubyte.gz to ./data/MNIST/raw/train-labels-idx1-ubyte.gz\n"
          ],
          "name": "stdout"
        },
        {
          "output_type": "display_data",
          "data": {
            "application/vnd.jupyter.widget-view+json": {
              "model_id": "b11c9554e25e47d599d243ec6607b67a",
              "version_minor": 0,
              "version_major": 2
            },
            "text/plain": [
              "HBox(children=(FloatProgress(value=1.0, bar_style='info', max=1.0), HTML(value='')))"
            ]
          },
          "metadata": {
            "tags": []
          }
        },
        {
          "output_type": "stream",
          "text": [
            "Extracting ./data/MNIST/raw/train-labels-idx1-ubyte.gz to ./data/MNIST/raw\n",
            "Downloading http://yann.lecun.com/exdb/mnist/t10k-images-idx3-ubyte.gz to ./data/MNIST/raw/t10k-images-idx3-ubyte.gz\n"
          ],
          "name": "stdout"
        },
        {
          "output_type": "display_data",
          "data": {
            "application/vnd.jupyter.widget-view+json": {
              "model_id": "ee03e2b188d84c4f991ae9c451da9448",
              "version_minor": 0,
              "version_major": 2
            },
            "text/plain": [
              "HBox(children=(FloatProgress(value=1.0, bar_style='info', max=1.0), HTML(value='')))"
            ]
          },
          "metadata": {
            "tags": []
          }
        },
        {
          "output_type": "stream",
          "text": [
            "Extracting ./data/MNIST/raw/t10k-images-idx3-ubyte.gz to ./data/MNIST/raw\n",
            "Downloading http://yann.lecun.com/exdb/mnist/t10k-labels-idx1-ubyte.gz to ./data/MNIST/raw/t10k-labels-idx1-ubyte.gz\n"
          ],
          "name": "stdout"
        },
        {
          "output_type": "display_data",
          "data": {
            "application/vnd.jupyter.widget-view+json": {
              "model_id": "6daa9a42c6054915a9fc9a359e9b29ee",
              "version_minor": 0,
              "version_major": 2
            },
            "text/plain": [
              "HBox(children=(FloatProgress(value=1.0, bar_style='info', max=1.0), HTML(value='')))"
            ]
          },
          "metadata": {
            "tags": []
          }
        },
        {
          "output_type": "stream",
          "text": [
            "Extracting ./data/MNIST/raw/t10k-labels-idx1-ubyte.gz to ./data/MNIST/raw\n",
            "Processing...\n",
            "Done!\n",
            "50000 10000 10000\n"
          ],
          "name": "stdout"
        },
        {
          "output_type": "stream",
          "text": [
            "/pytorch/torch/csrc/utils/tensor_numpy.cpp:141: UserWarning: The given NumPy array is not writeable, and PyTorch does not support non-writeable tensors. This means you can write to the underlying (supposedly non-writeable) NumPy array using the tensor. You may want to copy the array to protect its data or make it writeable before converting it to a tensor. This type of warning will be suppressed for the rest of this program.\n"
          ],
          "name": "stderr"
        }
      ]
    },
    {
      "cell_type": "markdown",
      "metadata": {
        "id": "RWAjMrIIZBKc",
        "colab_type": "text"
      },
      "source": [
        "##**Checking input data**"
      ]
    },
    {
      "cell_type": "code",
      "metadata": {
        "id": "8kMY-olFV7JD",
        "colab_type": "code",
        "colab": {
          "base_uri": "https://localhost:8080/",
          "height": 616
        },
        "outputId": "c99a7e27-b4d0-4af6-857d-d7fb6aceadb4"
      },
      "source": [
        "examples = enumerate(train_loader)\n",
        "batch_idx, (example_data, example_targets) = next(examples)  \n",
        "\n",
        "import matplotlib.pyplot as plt\n",
        "\n",
        "fig = plt.figure(figsize=(15, 9))\n",
        "for i in range(6):\n",
        "    plt.subplot(2,3,i+1)\n",
        "    plt.tight_layout()\n",
        "    plt.imshow(example_data[i][0], cmap='gray', interpolation='none')\n",
        "    plt.title(\"Ground Truth: {}\".format(example_targets[i]))\n",
        "plt.show()"
      ],
      "execution_count": null,
      "outputs": [
        {
          "output_type": "stream",
          "text": [
            "\n",
            "\n",
            "\n",
            "\n"
          ],
          "name": "stdout"
        },
        {
          "output_type": "display_data",
          "data": {
            "image/png": "[encoded data removed]",
            "text/plain": [
              "<Figure size 1080x648 with 6 Axes>"
            ]
          },
          "metadata": {
            "tags": [],
            "needs_background": "light"
          }
        }
      ]
    },
    {
      "cell_type": "markdown",
      "metadata": {
        "id": "HV0cez0JZLgB",
        "colab_type": "text"
      },
      "source": [
        "##**Model(Hypothesis) Define**"
      ]
    },
    {
      "cell_type": "code",
      "metadata": {
        "id": "1n8XW0PvV-hU",
        "colab_type": "code",
        "colab": {}
      },
      "source": [
        "class MLPModel(nn.Module):\n",
        "    def __init__(self, in_dim, out_dim, hid_dim): \n",
        "        super(MLPModel, self).__init__()\n",
        "        self.linear1 = nn.Linear(in_dim, hid_dim)\n",
        "        self.linear2 = nn.Linear(hid_dim, out_dim)\n",
        "        self.act = nn.ReLU()\n",
        "    \n",
        "    def forward(self, x):\n",
        "        x = self.linear1(x)\n",
        "        x = self.act(x)\n",
        "        x = self.linear2(x)\n",
        "        return x\n",
        "\n",
        "class LinearModel(nn.Module):\n",
        "  def __init__(self):\n",
        "    super(LinearModel, self).__init__()\n",
        "    self.linear = nn.Linear(in_features=784, out_features=10, bias=True) \n",
        "\n",
        "  def forward(self, x):      \n",
        "    return self.linear(x)"
      ],
      "execution_count": null,
      "outputs": []
    },
    {
      "cell_type": "markdown",
      "metadata": {
        "id": "VpTaHgj1ZSjA",
        "colab_type": "text"
      },
      "source": [
        "##**Cost(Loss) Function**"
      ]
    },
    {
      "cell_type": "code",
      "metadata": {
        "id": "ZkWE1WFqWBgT",
        "colab_type": "code",
        "colab": {}
      },
      "source": [
        "cls_loss = nn.CrossEntropyLoss()"
      ],
      "execution_count": null,
      "outputs": []
    },
    {
      "cell_type": "markdown",
      "metadata": {
        "id": "bj7xeVxgZV5I",
        "colab_type": "text"
      },
      "source": [
        "##**Training & Evaluation**"
      ]
    },
    {
      "cell_type": "code",
      "metadata": {
        "scrolled": false,
        "id": "-Ti_lQHEg-2D",
        "colab_type": "code",
        "colab": {
          "base_uri": "https://localhost:8080/",
          "height": 914
        },
        "outputId": "6ea5f5ec-c3f5-4e5c-d83a-2651fcc0b01a"
      },
      "source": [
        "import torch.optim as optim\n",
        "from sklearn.metrics import accuracy_score\n",
        "import time\n",
        "\n",
        "# ====== Construct Model ====== #\n",
        "#model = MLPModel(784,10,200)\n",
        "model = LinearModel()\n",
        "\n",
        "# ====== GPU selection ======= #\n",
        "device = 'cuda:0' if torch.cuda.is_available() else 'cpu'\n",
        "model.to(device)\n",
        "\n",
        "print('Number of {} parameters'.format(sum(p.numel() for p in model.parameters() if p.requires_grad)))\n",
        "\n",
        "# ===== Construct Optimizer ====== #\n",
        "lr = 0.002 \n",
        "optimizer = optim.SGD(model.parameters(), lr=lr) \n",
        "\n",
        "list_epoch = [] \n",
        "list_train_loss = []\n",
        "list_val_loss = []\n",
        "list_acc = []\n",
        "list_acc_epoch = []\n",
        "\n",
        "epoch = 50\n",
        "for i in range(epoch):\n",
        "    ts = time.time()\n",
        "    # ====== Train ====== #\n",
        "    train_loss = 0\n",
        "    model.train() \n",
        "    optimizer.zero_grad() \n",
        "    \n",
        "    for input_X, true_y in train_loader:\n",
        "        input_X = input_X.squeeze() # dropping first dimension of input_X\n",
        "        input_X = input_X.view(-1, 784) # 28x28 reshaped to 1 dmin of 784\n",
        "\n",
        "        # ====== GPU ====== #\n",
        "        input_X = input_X.to(device)   # send to GPU\n",
        "        true_y = true_y.to(device) # send to GPU\n",
        "\n",
        "        pred_y = model(input_X)\n",
        "\n",
        "        loss = cls_loss(pred_y.squeeze(), true_y)\n",
        "        loss.backward() \n",
        "        optimizer.step() \n",
        "        train_loss += loss.item()  # loss.item has detach + cpu\n",
        "    train_loss = train_loss / len(train_loader)\n",
        "    list_train_loss.append(train_loss)\n",
        "    list_epoch.append(i)\n",
        "    \n",
        "    \n",
        "    # ====== Validation ====== #\n",
        "    val_loss = 0\n",
        "    model.eval()\n",
        "    optimizer.zero_grad()\n",
        "    \n",
        "    for input_X, true_y in val_loader:\n",
        "        input_X = input_X.squeeze()\n",
        "        input_X = input_X.view(-1, 784)\n",
        "\n",
        "        # ====== GPU ====== #\n",
        "        input_X = input_X.to(device)\n",
        "        true_y = true_y.to(device)\n",
        "\n",
        "        pred_y = model(input_X)\n",
        "\n",
        "        loss = cls_loss(pred_y.squeeze(), true_y)\n",
        "        val_loss += loss.item() # loss.item has detach + cpu\n",
        "    val_loss = val_loss / len(val_loader)\n",
        "    list_val_loss.append(val_loss)\n",
        "\n",
        "\n",
        "    # ====== Evaluation ======= #\n",
        "    correct = 0\n",
        "    model.eval()\n",
        "    optimizer.zero_grad()\n",
        "\n",
        "    for input_X, true_y in test_loader:\n",
        "        input_X = input_X.squeeze()\n",
        "        input_X = input_X.view(-1, 784)\n",
        "\n",
        "        # ====== GPU ====== #\n",
        "        input_X = input_X.to(device)\n",
        "        true_y = true_y.to(device)\n",
        "\n",
        "        pred_y = model(input_X).max(1, keepdim=True)[1].squeeze()\n",
        "        correct += pred_y.eq(true_y).sum()\n",
        "\n",
        "    acc = correct.item() / len(test_loader.dataset) #item \n",
        "    list_acc.append(acc)\n",
        "    list_acc_epoch.append(i)\n",
        "    \n",
        "    te = time.time()\n",
        "    \n",
        "    print('Epoch: {}, Train Loss: {}, Val Loss: {}, Test Acc: {}%, {:3.1f}'.format(i, train_loss, val_loss, acc*100, te-ts))"
      ],
      "execution_count": null,
      "outputs": [
        {
          "output_type": "stream",
          "text": [
            "Number of 7850 parameters\n",
            "Epoch: 0, Train Loss: 1.170943211487797, Val Loss: 1.6043355570563786, Test Acc: 90.09%, 11.5\n",
            "Epoch: 1, Train Loss: 1.2734987720123032, Val Loss: 1.156522334376468, Test Acc: 87.5%, 11.4\n",
            "Epoch: 2, Train Loss: 0.903111269673728, Val Loss: 0.894986499713946, Test Acc: 90.03%, 11.2\n",
            "Epoch: 3, Train Loss: 0.7210822535292877, Val Loss: 0.8990369043018245, Test Acc: 86.72%, 11.1\n",
            "Epoch: 4, Train Loss: 0.7094015352180242, Val Loss: 0.9373865780196612, Test Acc: 87.79%, 11.0\n",
            "Epoch: 5, Train Loss: 0.7286029855918397, Val Loss: 0.8584120409398139, Test Acc: 87.86%, 11.0\n",
            "Epoch: 6, Train Loss: 0.6463585333217441, Val Loss: 0.8165765491467488, Test Acc: 88.4%, 11.0\n",
            "Epoch: 7, Train Loss: 0.6257778511708959, Val Loss: 0.7671905757882928, Test Acc: 88.14999999999999%, 11.0\n",
            "Epoch: 8, Train Loss: 0.5906378197319367, Val Loss: 0.8162896768956245, Test Acc: 87.96000000000001%, 11.0\n",
            "Epoch: 9, Train Loss: 0.5962590271859523, Val Loss: 0.8293479805505728, Test Acc: 87.52%, 11.0\n",
            "Epoch: 10, Train Loss: 0.5765444197503807, Val Loss: 0.8049075848694089, Test Acc: 88.06%, 10.9\n",
            "Epoch: 11, Train Loss: 0.5739833544129911, Val Loss: 0.8046162701860259, Test Acc: 87.28%, 10.9\n",
            "Epoch: 12, Train Loss: 0.6099445230668158, Val Loss: 0.850806317374676, Test Acc: 87.88%, 10.9\n",
            "Epoch: 13, Train Loss: 0.6127247576365995, Val Loss: 0.8733898940720136, Test Acc: 87.47%, 11.0\n",
            "Epoch: 14, Train Loss: 0.6153493608202776, Val Loss: 0.882920921226091, Test Acc: 87.91%, 11.2\n",
            "Epoch: 15, Train Loss: 0.6338343646596459, Val Loss: 0.9576160666308825, Test Acc: 87.24%, 10.9\n",
            "Epoch: 16, Train Loss: 0.6571469074472442, Val Loss: 0.9910640248769447, Test Acc: 86.72%, 10.9\n",
            "Epoch: 17, Train Loss: 0.6868284494446977, Val Loss: 1.00471966968307, Test Acc: 87.52%, 10.9\n",
            "Epoch: 18, Train Loss: 0.6899837579035089, Val Loss: 1.0876005918164797, Test Acc: 85.47%, 11.0\n",
            "Epoch: 19, Train Loss: 0.7787299698118664, Val Loss: 1.140530941607077, Test Acc: 87.49%, 11.0\n",
            "Epoch: 20, Train Loss: 0.7141447605760506, Val Loss: 0.9512612321708775, Test Acc: 87.59%, 11.0\n",
            "Epoch: 21, Train Loss: 0.6382207323218245, Val Loss: 0.9554436263404315, Test Acc: 87.68%, 11.0\n",
            "Epoch: 22, Train Loss: 0.6735004535721391, Val Loss: 1.0801838817475717, Test Acc: 86.16%, 10.9\n",
            "Epoch: 23, Train Loss: 0.7323193186917878, Val Loss: 1.0753738759439202, Test Acc: 87.7%, 10.9\n",
            "Epoch: 24, Train Loss: 0.7580850667622693, Val Loss: 1.0531869760796995, Test Acc: 87.25%, 11.0\n",
            "Epoch: 25, Train Loss: 0.6789924168525754, Val Loss: 0.9745145568364784, Test Acc: 88.01%, 11.4\n",
            "Epoch: 26, Train Loss: 0.6330285792231864, Val Loss: 0.9230434856837308, Test Acc: 86.85000000000001%, 11.6\n",
            "Epoch: 27, Train Loss: 0.7083284516468682, Val Loss: 1.1574334758746474, Test Acc: 87.36%, 11.4\n",
            "Epoch: 28, Train Loss: 0.7500519440759479, Val Loss: 1.1003224811976469, Test Acc: 86.33999999999999%, 11.5\n",
            "Epoch: 29, Train Loss: 0.7431661519400604, Val Loss: 1.2226374458663072, Test Acc: 86.83%, 11.5\n",
            "Epoch: 30, Train Loss: 0.788995467869522, Val Loss: 1.1312846254698838, Test Acc: 87.74%, 11.7\n",
            "Epoch: 31, Train Loss: 0.7438944902109064, Val Loss: 1.0280530977098248, Test Acc: 88.21%, 11.7\n",
            "Epoch: 32, Train Loss: 0.6715079180496123, Val Loss: 0.9807151208949995, Test Acc: 87.31%, 11.5\n",
            "Epoch: 33, Train Loss: 0.6864726029126845, Val Loss: 1.0782994563820996, Test Acc: 87.66000000000001%, 11.4\n",
            "Epoch: 34, Train Loss: 0.6777650832253344, Val Loss: 1.0160328670393062, Test Acc: 86.72999999999999%, 11.5\n",
            "Epoch: 35, Train Loss: 0.7071044951905985, Val Loss: 1.1004475834248941, Test Acc: 87.3%, 11.7\n",
            "Epoch: 36, Train Loss: 0.6871250882706679, Val Loss: 1.0244502070583874, Test Acc: 87.09%, 11.6\n",
            "Epoch: 37, Train Loss: 0.6547738583496464, Val Loss: 1.1386215053027189, Test Acc: 86.07000000000001%, 11.4\n",
            "Epoch: 38, Train Loss: 0.7285432808310784, Val Loss: 1.2036632299423218, Test Acc: 85.75%, 11.7\n",
            "Epoch: 39, Train Loss: 0.7793801066744358, Val Loss: 1.2860828834243967, Test Acc: 85.04%, 11.5\n",
            "Epoch: 40, Train Loss: 0.7553741388842273, Val Loss: 1.0671370089808596, Test Acc: 86.65%, 11.6\n",
            "Epoch: 41, Train Loss: 0.6979766718261992, Val Loss: 1.1808687840835959, Test Acc: 85.11999999999999%, 12.0\n",
            "Epoch: 42, Train Loss: 0.7367758087985351, Val Loss: 1.1435722942593731, Test Acc: 86.50999999999999%, 11.6\n",
            "Epoch: 43, Train Loss: 0.7521224982674469, Val Loss: 1.1281849813612201, Test Acc: 87.16000000000001%, 11.7\n",
            "Epoch: 44, Train Loss: 0.7439716172492717, Val Loss: 1.1702344523200505, Test Acc: 86.61999999999999%, 11.4\n",
            "Epoch: 45, Train Loss: 0.7284879773817099, Val Loss: 1.1636017941975896, Test Acc: 87.3%, 11.7\n",
            "Epoch: 46, Train Loss: 0.7868000526181267, Val Loss: 1.1848578007915351, Test Acc: 87.37%, 11.7\n",
            "Epoch: 47, Train Loss: 0.7571170815573934, Val Loss: 1.1622898050501376, Test Acc: 86.14%, 11.6\n",
            "Epoch: 48, Train Loss: 0.713452539023231, Val Loss: 1.1035110637356964, Test Acc: 86.9%, 11.6\n",
            "Epoch: 49, Train Loss: 0.6590236373950759, Val Loss: 0.9896263404737545, Test Acc: 86.74%, 11.7\n"
          ],
          "name": "stdout"
        }
      ]
    },
    {
      "cell_type": "code",
      "metadata": {
        "id": "1vDmnpT4WdP-",
        "colab_type": "code",
        "colab": {
          "base_uri": "https://localhost:8080/",
          "height": 329
        },
        "outputId": "b904b89f-ef08-4b4a-ea8a-1bc9419e121d"
      },
      "source": [
        "fig = plt.figure(figsize=(15,5))\n",
        "\n",
        "# ====== Loss Fluctuation ====== #\n",
        "ax1 = fig.add_subplot(1, 2, 1)\n",
        "ax1.plot(list_epoch, list_train_loss, label='train_loss')\n",
        "ax1.plot(list_epoch, list_val_loss, '--', label='val_loss')\n",
        "ax1.set_xlabel('epoch')\n",
        "ax1.set_ylabel('loss')\n",
        "ax1.grid()\n",
        "ax1.legend()\n",
        "ax1.set_title('epoch vs loss')\n",
        "\n",
        "# ====== Metric Fluctuation ====== #\n",
        "ax2 = fig.add_subplot(1, 2, 2)\n",
        "ax2.plot(list_acc_epoch, list_acc, marker='x', label='Accuracy metric')\n",
        "ax2.set_xlabel('epoch')\n",
        "ax2.set_ylabel('Acc')\n",
        "ax2.grid()\n",
        "ax2.legend()\n",
        "ax2.set_title('epoch vs Accuracy')\n",
        "\n",
        "plt.show()"
      ],
      "execution_count": null,
      "outputs": [
        {
          "output_type": "display_data",
          "data": {
            "image/png": "[encoded data removed]",
            "text/plain": [
              "<Figure size 1080x360 with 2 Axes>"
            ]
          },
          "metadata": {
            "tags": [],
            "needs_background": "light"
          }
        }
      ]
    }
  ]
}