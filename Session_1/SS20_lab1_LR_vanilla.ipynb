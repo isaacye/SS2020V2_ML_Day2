{
  "nbformat": 4,
  "nbformat_minor": 0,
  "metadata": {
    "colab": {
      "name": "SS20_lab1_LR_vanilla.ipynb",
      "provenance": [],
      "collapsed_sections": [],
      "include_colab_link": true
    },
    "kernelspec": {
      "name": "python3",
      "display_name": "Python 3"
    }
  },
  "cells": [
    {
      "cell_type": "markdown",
      "metadata": {
        "id": "view-in-github",
        "colab_type": "text"
      },
      "source": [
        "<a href=\"https://colab.research.google.com/github/isaacye/SS2020V2_ML_Day2/blob/master/Session_1/SS20_lab1_LR_vanilla.ipynb\" target=\"_parent\"><img src=\"https://colab.research.google.com/assets/colab-badge.svg\" alt=\"Open In Colab\"/></a>"
      ]
    },
    {
      "cell_type": "markdown",
      "metadata": {
        "id": "Lv0gFIvtkrQf",
        "colab_type": "text"
      },
      "source": [
        "## **Data Preparation**"
      ]
    },
    {
      "cell_type": "code",
      "metadata": {
        "id": "Fa8Aj4QYkXAB",
        "colab_type": "code",
        "colab": {}
      },
      "source": [
        "X = list(range(10))\n",
        "Y = [1, 1, 2, 4, 5, 7, 8, 9, 10, 9]"
      ],
      "execution_count": null,
      "outputs": []
    },
    {
      "cell_type": "code",
      "metadata": {
        "id": "_X5GnbebkpQA",
        "colab_type": "code",
        "colab": {
          "base_uri": "https://localhost:8080/",
          "height": 265
        },
        "outputId": "30013e6b-20a4-4747-8b07-d12178cf60ee"
      },
      "source": [
        "import matplotlib.pyplot as plt\n",
        "plt.scatter(X,Y)\n",
        "plt.show()"
      ],
      "execution_count": null,
      "outputs": [
        {
          "output_type": "display_data",
          "data": {
            "image/png": "[encoded data removed]",
            "text/plain": [
              "<Figure size 432x288 with 1 Axes>"
            ]
          },
          "metadata": {
            "tags": [],
            "needs_background": "light"
          }
        }
      ]
    },
    {
      "cell_type": "markdown",
      "metadata": {
        "id": "8AN6_PuJlUgH",
        "colab_type": "text"
      },
      "source": [
        "## **Model(Hypothesis) Define**"
      ]
    },
    {
      "cell_type": "code",
      "metadata": {
        "id": "q_laJL16lGZf",
        "colab_type": "code",
        "colab": {}
      },
      "source": [
        "class H():\n",
        "  \n",
        "    def __init__(self, w): \n",
        "        self.w = w\n",
        "    \n",
        "    def forward(self, x):\n",
        "        return self.w * x     # H(x) = Wx"
      ],
      "execution_count": null,
      "outputs": []
    },
    {
      "cell_type": "markdown",
      "metadata": {
        "id": "GECEorqIlngG",
        "colab_type": "text"
      },
      "source": [
        "## **Cost(Loss) Function**"
      ]
    },
    {
      "cell_type": "code",
      "metadata": {
        "id": "7WS3R7qHlQpb",
        "colab_type": "code",
        "colab": {}
      },
      "source": [
        "def cost(h, X, Y):\n",
        "    error = 0\n",
        "    for i in range(len(X)):\n",
        "        error += (h.forward(X[i]) - Y[i])**2\n",
        "    error = error / len(X)\n",
        "    return error"
      ],
      "execution_count": null,
      "outputs": []
    },
    {
      "cell_type": "markdown",
      "metadata": {
        "id": "c2VhPioCl7LO",
        "colab_type": "text"
      },
      "source": [
        "##**Checking cost function**##"
      ]
    },
    {
      "cell_type": "code",
      "metadata": {
        "id": "UYsNwsv9l08c",
        "colab_type": "code",
        "colab": {
          "base_uri": "https://localhost:8080/",
          "height": 406
        },
        "outputId": "441147b4-9ab0-4f94-98dc-45fbea7808b2"
      },
      "source": [
        "list_w = []\n",
        "list_c = []\n",
        "for i in range(-20, 20):\n",
        "    w = i * 0.5\n",
        "    h = H(w)\n",
        "    c = cost(h, X, Y)\n",
        "    list_w.append(w)\n",
        "    list_c.append(c)\n",
        "    \n",
        "print(list_w)\n",
        "print(list_c) \n",
        "\n",
        "plt.figure(figsize=(10,5))\n",
        "plt.xlabel('w')\n",
        "plt.ylabel('cost')\n",
        "plt.scatter(list_w, list_c, s=3)"
      ],
      "execution_count": null,
      "outputs": [
        {
          "output_type": "stream",
          "text": [
            "[-10.0, -9.5, -9.0, -8.5, -8.0, -7.5, -7.0, -6.5, -6.0, -5.5, -5.0, -4.5, -4.0, -3.5, -3.0, -2.5, -2.0, -1.5, -1.0, -0.5, 0.0, 0.5, 1.0, 1.5, 2.0, 2.5, 3.0, 3.5, 4.0, 4.5, 5.0, 5.5, 6.0, 6.5, 7.0, 7.5, 8.0, 8.5, 9.0, 9.5]\n",
            "[3580.2, 3267.925, 2969.9, 2686.125, 2416.6, 2161.325, 1920.3, 1693.525, 1481.0, 1282.725, 1098.7, 928.925, 773.4, 632.125, 505.1, 392.325, 293.8, 209.525, 139.5, 83.725, 42.2, 14.925, 1.9, 3.125, 18.6, 48.325, 92.3, 150.525, 223.0, 309.725, 410.7, 525.925, 655.4, 799.125, 957.1, 1129.325, 1315.8, 1516.525, 1731.5, 1960.725]\n"
          ],
          "name": "stdout"
        },
        {
          "output_type": "execute_result",
          "data": {
            "text/plain": [
              "<matplotlib.collections.PathCollection at 0x7f6ee48ea0b8>"
            ]
          },
          "metadata": {
            "tags": []
          },
          "execution_count": 5
        },
        {
          "output_type": "display_data",
          "data": {
            "image/png": "[encoded data removed]",
            "text/plain": [
              "<Figure size 720x360 with 1 Axes>"
            ]
          },
          "metadata": {
            "tags": [],
            "needs_background": "light"
          }
        }
      ]
    },
    {
      "cell_type": "markdown",
      "metadata": {
        "id": "WWaSGta5mEyS",
        "colab_type": "text"
      },
      "source": [
        "##**Gradient Decent**"
      ]
    },
    {
      "cell_type": "code",
      "metadata": {
        "id": "X9huD9dmmC7D",
        "colab_type": "code",
        "colab": {}
      },
      "source": [
        "def cal_grad(w, cost): \n",
        "    h = H(w)\n",
        "    cost1 = cost(h, X, Y)\n",
        "    eps = 0.00001 \n",
        "    h = H(w+eps) \n",
        "    cost2 = cost(h, X, Y)\n",
        "    dcost = cost2 - cost1\n",
        "    dw = eps\n",
        "    grad = dcost / dw\n",
        "    return grad, (cost1+cost2)*0.5"
      ],
      "execution_count": null,
      "outputs": []
    },
    {
      "cell_type": "markdown",
      "metadata": {
        "id": "AI8qCDRimW7O",
        "colab_type": "text"
      },
      "source": [
        "##**Running case: Testing two different gradient decent models**"
      ]
    },
    {
      "cell_type": "code",
      "metadata": {
        "id": "yDyU-O2YmSrk",
        "colab_type": "code",
        "colab": {
          "base_uri": "https://localhost:8080/",
          "height": 300
        },
        "outputId": "c10de38a-bf61-4c5b-a39e-5ddb784d4dc6"
      },
      "source": [
        "# ===== Initializing weights (w) ==== #\n",
        "w = 1.4\n",
        "\n",
        "# ===== Learning rate ===== #\n",
        "\n",
        "lr = 0.01\n",
        "\n",
        "list_w = []\n",
        "list_c = []\n",
        "\n",
        "for i in range(100): \n",
        "    grad, mean_cost = cal_grad(w, cost)\n",
        "\n",
        "    w -= lr * grad\n",
        "    list_w.append(w)\n",
        "    list_c.append(mean_cost)\n",
        "    \n",
        "print(w, mean_cost) \n",
        "\n",
        "plt.scatter(list_w, list_c, label='analytic', marker='*')\n",
        "plt.legend()"
      ],
      "execution_count": null,
      "outputs": [
        {
          "output_type": "stream",
          "text": [
            "1.207012543859841 0.6785964919405698\n"
          ],
          "name": "stdout"
        },
        {
          "output_type": "execute_result",
          "data": {
            "text/plain": [
              "<matplotlib.legend.Legend at 0x7f6ee56cf438>"
            ]
          },
          "metadata": {
            "tags": []
          },
          "execution_count": 8
        },
        {
          "output_type": "display_data",
          "data": {
            "image/png": "[encoded data removed]",
            "text/plain": [
              "<Figure size 432x288 with 1 Axes>"
            ]
          },
          "metadata": {
            "tags": [],
            "needs_background": "light"
          }
        }
      ]
    },
    {
      "cell_type": "markdown",
      "metadata": {
        "id": "MwCExlQguuGG",
        "colab_type": "text"
      },
      "source": [
        "##**Checking results: Best fit**"
      ]
    },
    {
      "cell_type": "code",
      "metadata": {
        "id": "CZSj98nPmkra",
        "colab_type": "code",
        "colab": {
          "base_uri": "https://localhost:8080/",
          "height": 265
        },
        "outputId": "a93debae-4293-448f-ab73-184f2f141497"
      },
      "source": [
        "import numpy as np\n",
        "x_grid = np.arange(10)\n",
        "pred_y1 = w*x_grid\n",
        "plt.plot(X,pred_y1)\n",
        "plt.scatter(X,Y)\n",
        "plt.show()"
      ],
      "execution_count": null,
      "outputs": [
        {
          "output_type": "display_data",
          "data": {
            "image/png": "[encoded data removed]",
            "text/plain": [
              "<Figure size 432x288 with 1 Axes>"
            ]
          },
          "metadata": {
            "tags": [],
            "needs_background": "light"
          }
        }
      ]
    }
  ]
}