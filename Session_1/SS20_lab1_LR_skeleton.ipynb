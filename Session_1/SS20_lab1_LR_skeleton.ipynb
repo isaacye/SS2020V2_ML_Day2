{
  "nbformat": 4,
  "nbformat_minor": 0,
  "metadata": {
    "colab": {
      "name": "SS20_lab1_LR_skeleton.ipynb",
      "provenance": [],
      "collapsed_sections": [],
      "authorship_tag": "ABX9TyMuUMJY19W6xY8f28hC5n29",
      "include_colab_link": true
    },
    "kernelspec": {
      "name": "python3",
      "display_name": "Python 3"
    }
  },
  "cells": [
    {
      "cell_type": "markdown",
      "metadata": {
        "id": "view-in-github",
        "colab_type": "text"
      },
      "source": [
        "<a href=\"https://colab.research.google.com/github/isaacye/SS2020V2_ML_Day2/blob/master/Session_1/SS20_lab1_LR_skeleton.ipynb\" target=\"_parent\"><img src=\"https://colab.research.google.com/assets/colab-badge.svg\" alt=\"Open In Colab\"/></a>"
      ]
    },
    {
      "cell_type": "markdown",
      "metadata": {
        "id": "4wYDpqBqCa0q",
        "colab_type": "text"
      },
      "source": [
        "# **Setting up the Data**"
      ]
    },
    {
      "cell_type": "code",
      "metadata": {
        "id": "TU9sOFyW_b2n",
        "colab_type": "code",
        "colab": {}
      },
      "source": [
        "X = list(range(10))\n",
        "Y = [1, 1, 2, 4, 5, 7, 8, 9, 10, 9]"
      ],
      "execution_count": null,
      "outputs": []
    },
    {
      "cell_type": "markdown",
      "metadata": {
        "id": "9YtEJ9LpC0dd",
        "colab_type": "text"
      },
      "source": [
        "# **Define a model**"
      ]
    },
    {
      "cell_type": "code",
      "metadata": {
        "id": "S_TlEIPg_knG",
        "colab_type": "code",
        "colab": {}
      },
      "source": [
        "class H():\n",
        "  #### Here ###\n"
      ],
      "execution_count": null,
      "outputs": []
    },
    {
      "cell_type": "markdown",
      "metadata": {
        "id": "Qg_ZuJKiaG5N",
        "colab_type": "text"
      },
      "source": [
        "# **Define cost function**"
      ]
    },
    {
      "cell_type": "code",
      "metadata": {
        "id": "zQ3jVzp__mNQ",
        "colab_type": "code",
        "colab": {}
      },
      "source": [
        "def cost(h, X, Y):\n",
        "    error = 0\n",
        "    for i in range(len(X)):\n",
        "        error += (h.forward(X[i]) - Y[i])**2\n",
        "    error = error / len(X)\n",
        "    return error"
      ],
      "execution_count": null,
      "outputs": []
    },
    {
      "cell_type": "markdown",
      "metadata": {
        "id": "vAwLHwQxaRLb",
        "colab_type": "text"
      },
      "source": [
        "# **Gradient Descent**"
      ]
    },
    {
      "cell_type": "code",
      "metadata": {
        "id": "hSyWbupz_prz",
        "colab_type": "code",
        "colab": {}
      },
      "source": [
        "def cal_grad(w, cost): \n",
        "    h = H(w)\n",
        "    cost1 = cost(h, X, Y)\n",
        "    eps = 0.00001 \n",
        "    h = H(w+eps) \n",
        "    cost2 = cost(h, X, Y)\n",
        "    dcost = cost2 - cost1\n",
        "    dw = eps\n",
        "    grad = dcost / dw\n",
        "    return grad, (cost1+cost2)*0.5"
      ],
      "execution_count": null,
      "outputs": []
    },
    {
      "cell_type": "markdown",
      "metadata": {
        "id": "hXdsvfbQaoC4",
        "colab_type": "text"
      },
      "source": [
        "# **Training**"
      ]
    },
    {
      "cell_type": "code",
      "metadata": {
        "id": "4_ai21xJ_sls",
        "colab_type": "code",
        "colab": {}
      },
      "source": [
        "# ===== Initializing weights (w) ==== #\n",
        "w = 1.4\n",
        "\n",
        "\n",
        "# ===== Learning rate ===== #\n",
        "\n",
        "lr = 0.01\n",
        "\n",
        "list_w = []\n",
        "list_c = []\n",
        "\n",
        "for i in range(100): \n",
        "  #### Here ###\n",
        "\n",
        "\n",
        "print(w, mean_cost) \n",
        "\n",
        "plt.scatter(list_w, list_c, label='analytic', marker='*')\n",
        "plt.legend()"
      ],
      "execution_count": null,
      "outputs": []
    }
  ]
}